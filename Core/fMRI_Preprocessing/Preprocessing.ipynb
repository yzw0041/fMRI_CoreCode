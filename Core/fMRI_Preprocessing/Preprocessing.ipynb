{
 "cells": [
  {
   "cell_type": "markdown",
   "metadata": {},
   "source": [
    "## Data Read and Preprocessing using SPM"
   ]
  },
  {
   "cell_type": "code",
   "execution_count": 1,
   "metadata": {},
   "outputs": [
    {
     "name": "stderr",
     "output_type": "stream",
     "text": [
      "/Users/posnerlab/miniconda3/lib/python3.6/site-packages/h5py/__init__.py:36: FutureWarning: Conversion of the second argument of issubdtype from `float` to `np.floating` is deprecated. In future, it will be treated as `np.float64 == np.dtype(float).type`.\n",
      "  from ._conv import register_converters as _register_converters\n"
     ]
    }
   ],
   "source": [
    "# Import the SPM interface under the name spm\n",
    "import nipype.interfaces.spm as spm"
   ]
  },
  {
   "cell_type": "code",
   "execution_count": 6,
   "metadata": {},
   "outputs": [],
   "source": [
    "from nipype.pipeline.engine import Workflow, Node, MapNode\n",
    "# Import the function 'maths' from the FSL interface\n",
    "import nipype.interfaces.fsl as fsl"
   ]
  },
  {
   "cell_type": "code",
   "execution_count": 7,
   "metadata": {},
   "outputs": [],
   "source": [
    "# What is the location of your experiment folder\n",
    "experiment_dir = '/Volumes/Gradient/Personal/yun/HBN/MRI/Site-CBIC'\n",
    "\n",
    "# What are the names of your subjects\n",
    "subjects = ['sub-NDARAC349YUC','sub-NDARAC350BZ0','sub-NDARAC350XUM']\n",
    "\n",
    "# What is the name of your working directory and output folder\n",
    "output_dir =  '/Volumes/Gradient/Personal/yun/HBN/MRI/Site-CBIC_output_firstSteps'\n",
    "working_dir = '/Volumes/Gradient/Personal/yun/HBN/MRI/Site-CBIC_workingdir_firstSteps'\n",
    "\n",
    "# What are experiment specific parameters\n",
    "number_of_slices = 60\n",
    "time_repetition = 0.8\n",
    "fwhm = 8"
   ]
  },
  {
   "cell_type": "code",
   "execution_count": 12,
   "metadata": {},
   "outputs": [],
   "source": [
    "import nipype.interfaces.freesurfer as freesurfer\n",
    "from os.path import join as opj\n",
    "from nipype.interfaces.spm import SliceTiming, Realign, Smooth\n",
    "from nipype.interfaces.utility import IdentityInterface\n",
    "from nipype.interfaces.io import SelectFiles, DataSink\n",
    "from nipype.algorithms.rapidart import ArtifactDetect\n",
    "from nipype.algorithms.misc import Gunzip\n",
    "from nipype.pipeline.engine import Workflow, Node"
   ]
  },
  {
   "cell_type": "code",
   "execution_count": 13,
   "metadata": {},
   "outputs": [],
   "source": [
    "gunzip = Node(Gunzip(), name=\"gunzip\")\n",
    "realign = Node(Realign(register_to_mean=True),\n",
    "               name=\"realign\")\n",
    "art = Node(ArtifactDetect(norm_threshold=1,\n",
    "                          zintensity_threshold=3,\n",
    "                          mask_type='spm_global',\n",
    "                          parameter_source='SPM'),\n",
    "           name=\"art\")\n"
   ]
  },
  {
   "cell_type": "code",
   "execution_count": null,
   "metadata": {},
   "outputs": [],
   "source": []
  }
 ],
 "metadata": {
  "kernelspec": {
   "display_name": "Python 3",
   "language": "python",
   "name": "python3"
  },
  "language_info": {
   "codemirror_mode": {
    "name": "ipython",
    "version": 3
   },
   "file_extension": ".py",
   "mimetype": "text/x-python",
   "name": "python",
   "nbconvert_exporter": "python",
   "pygments_lexer": "ipython3",
   "version": "3.6.3"
  }
 },
 "nbformat": 4,
 "nbformat_minor": 2
}
